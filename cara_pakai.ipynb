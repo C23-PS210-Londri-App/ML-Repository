{
  "nbformat": 4,
  "nbformat_minor": 0,
  "metadata": {
    "colab": {
      "provenance": [],
      "authorship_tag": "ABX9TyOr0dd9FJsRlbYn6rqGolGD",
      "include_colab_link": true
    },
    "kernelspec": {
      "name": "python3",
      "display_name": "Python 3"
    },
    "language_info": {
      "name": "python"
    }
  },
  "cells": [
    {
      "cell_type": "markdown",
      "metadata": {
        "id": "view-in-github",
        "colab_type": "text"
      },
      "source": [
        "<a href=\"https://colab.research.google.com/github/C23-PS210-Londri-App/ML-Repository/blob/main/cara_pakai.ipynb\" target=\"_parent\"><img src=\"https://colab.research.google.com/assets/colab-badge.svg\" alt=\"Open In Colab\"/></a>"
      ]
    },
    {
      "cell_type": "code",
      "execution_count": 1,
      "metadata": {
        "colab": {
          "base_uri": "https://localhost:8080/"
        },
        "id": "PkQ1QTLekyvr",
        "outputId": "efed50dd-837b-4234-e233-405809d3159c"
      },
      "outputs": [
        {
          "output_type": "stream",
          "name": "stdout",
          "text": [
            "Mounted at /content/drive\n"
          ]
        }
      ],
      "source": [
        "from keras.models import load_model\n",
        "import tensorflow as tf\n",
        "import numpy as np\n",
        "from google.colab import drive\n",
        "import pickle\n",
        "drive.mount('/content/drive')\n",
        "model_path = '/content/drive/MyDrive/capstone_project/model_rev_final.h5'\n",
        "loaded_model = load_model(model_path)\n",
        "new_data_point = np.array([-7.87639, 110.35889, 1, 0, 1, 1, 1])"
      ]
    },
    {
      "cell_type": "code",
      "source": [
        "with open('/content/drive/MyDrive/capstone_project/minmax_scaler.pkl', 'rb') as file:\n",
        "    loaded_scaler = pickle.load(file)\n",
        "\n",
        "new_data_point[:2] = loaded_scaler.transform(new_data_point[:2].reshape(1,-1))\n",
        "print(new_data_point)\n",
        "new_data_point = new_data_point.reshape(1, -1)\n",
        "\n",
        "predictions = loaded_model.predict(new_data_point)\n",
        "class_probabilities1 = predictions[0]\n",
        "sorted_indices1 = np.argsort(class_probabilities1)[::-1]\n",
        "next_most_likely_indices1 = sorted_indices1[1:16]\n",
        "print(next_most_likely_indices1)"
      ],
      "metadata": {
        "id": "YTrkSqZnk7Wd",
        "colab": {
          "base_uri": "https://localhost:8080/"
        },
        "outputId": "335134a7-7c08-4d85-ebbe-eaed6c390441"
      },
      "execution_count": 2,
      "outputs": [
        {
          "output_type": "stream",
          "name": "stderr",
          "text": [
            "/usr/local/lib/python3.10/dist-packages/sklearn/base.py:439: UserWarning: X does not have valid feature names, but MinMaxScaler was fitted with feature names\n",
            "  warnings.warn(\n"
          ]
        },
        {
          "output_type": "stream",
          "name": "stdout",
          "text": [
            "[-0.04717928  0.56039172  1.          0.          1.          1.\n",
            "  1.        ]\n",
            "1/1 [==============================] - 0s 152ms/step\n",
            "[607 608 644 623 645 613 664 636 621 651 649 618 652 655 640]\n"
          ]
        }
      ]
    },
    {
      "cell_type": "code",
      "source": [],
      "metadata": {
        "id": "H8ID_jAZ3UQv"
      },
      "execution_count": null,
      "outputs": []
    }
  ]
}